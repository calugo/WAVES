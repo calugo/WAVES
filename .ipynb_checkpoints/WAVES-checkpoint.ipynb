{
 "cells": [
  {
   "cell_type": "code",
   "execution_count": 1,
   "id": "03ccaf8e",
   "metadata": {},
   "outputs": [],
   "source": [
    "import ipywidgets as widgets\n",
    "import matplotlib.pyplot as plt\n",
    "import matplotlib\n",
    "import ipywidgets as widgets\n",
    "%matplotlib inline\n",
    "from ipywidgets import interact, interactive, fixed, interact_manual#, clear_output\n",
    "import numpy as np\n",
    "from scipy.spatial.transform import Rotation as R"
   ]
  },
  {
   "cell_type": "code",
   "execution_count": 2,
   "id": "aad18dd7",
   "metadata": {},
   "outputs": [],
   "source": [
    "pi=np.pi\n",
    "A=0.5\n",
    "ld=0.1\n",
    "L=1.\n",
    "l=L/4\n",
    "d=4*A\n",
    "m=3*pi/4\n",
    "\n",
    "m1 = widgets.FloatSlider(value=pi/4.0,min=0.0,max=2.0*pi,step=0.01, description=\"theta\",continuous_update=False)\n",
    "l1 = widgets.FloatSlider(value=l,min=0.1,max=0.5*L,step=0.01, description=\"xl\",continuous_update=False)\n",
    "dy = widgets.FloatSlider(value=d,min=0.1,max=10*A,step=0.01, description=\"yb\",continuous_update=False)\n",
    "Ah = widgets.FloatSlider(value=A,min=0,max=1.0,step=0.01, description=\"Amp\",continuous_update=False)\n",
    "wl = widgets.FloatSlider(value=L/4,min=L/50,max=L/2,step=0.01, description=\"lambda\",continuous_update=False)\n",
    "Lx = widgets.FloatSlider(value=L,min=0.5*L,max=2*L,step=0.1, description=\"Lx\",continuous_update=False)\n",
    "#k = widgets.FloatSlider(value=xr,min=0,max=Ny,step=1.0, description=\"xr\",continuous_update=False)\n",
    "wi = widgets.HBox([m1,l1,dy])\n",
    "ui = widgets.HBox([Ah,wl,Lx])"
   ]
  },
  {
   "cell_type": "code",
   "execution_count": 3,
   "id": "8e4b35f6",
   "metadata": {},
   "outputs": [],
   "source": [
    "fig, axes = plt.subplots(1, 1, figsize=(10, 10 ), sharex=False, sharey=False)\n",
    "plt.close(fig)\n",
    "\n",
    "\n",
    "def gmlm(a,b,A,ld,x):\n",
    "    xmj=[]\n",
    "    ymj=[]\n",
    "    nxj=[]\n",
    "    nyj=[]\n",
    "    gm=[]\n",
    "    ldj=[]\n",
    "    ax=a[0]; ay=a[1]; bx=b[0]; by=b[1];\n",
    "    kj=2*pi/ld\n",
    "    mu=0\n",
    "    for xj in x:\n",
    "        tau=np.sqrt(1+(A*kj*np.cos(kj*xj))**2)\n",
    "        uo=(xj-ax)/(bx-ax); u1=A*kj*np.cos(kj*xj)/(tau*(bx-ax))\n",
    "        vo=tau*(ay-A*np.sin(kj*xj)); v1=tau*(by-ay)\n",
    "        lj=uo-((vo+uo*v1)/(1+v1*u1))*u1\n",
    "        gj=(vo+uo*v1)/(1+u1*v1)\n",
    "        if (lj>=0 and lj<=1) and (xj>=ax and xj<=bx):\n",
    "            xmj.append(xj)\n",
    "            ymj.append(A*np.sin(kj*xj))\n",
    "            nxj.append(-A*kj*np.cos(kj*xj)/tau)\n",
    "            nyj.append(1/tau)\n",
    "            gm.append(gj)\n",
    "            ldj.append(lj)\n",
    "        mu+=1\n",
    "    return xmj, ymj,  nxj, nyj, gm, ldj\n",
    "    \n",
    "def retnorm(x,F,A,ld):\n",
    "    k=2*pi/ld    \n",
    "    ftn=A*k*np.cos(k*x)\n",
    "    jy=0\n",
    "    tx=[]\n",
    "    ty=[]\n",
    "    gamma=A/10\n",
    "    for xj in x:\n",
    "        t1=1\n",
    "        t2=ftn[jy]\n",
    "        nt=np.sqrt(t1**2+t2**2)\n",
    "        tx.append(-gamma*t2/nt)\n",
    "        ty.append(gamma*t1/nt)\n",
    "        #print(xj,x[jy],ftn[jy])  \n",
    "        jy+=1\n",
    "    return tx,ty\n",
    "    \n",
    "def retvec(A,ld,L,l,d,m):\n",
    "    xo=np.array([-0.5*l,0.0])\n",
    "    x1=np.array([0.5*l,0.0])\n",
    "    c, s = np.cos(m), np.sin(m)\n",
    "    R = np.array(((c, -s), (s, c)))\n",
    "    B=np.array([0.0,d])\n",
    "    #print(B)\n",
    "    u1=np.dot(R,xo)\n",
    "    u2=np.dot(R,x1)\n",
    "    u1=u1+B\n",
    "    u2=u2+B\n",
    "    x=np.linspace(-0.5*L,0.5*L,500)\n",
    "    k=2*pi/ld\n",
    "    F=A*np.sin(k*x)\n",
    "    return u1, u2, F, x\n",
    "\n",
    "#def alpha()\n",
    "\n",
    "\n",
    "def f(m1,l1,dy,Ah,wl,Lx):\n",
    "    u1,u2,Fn,xn = retvec(m1,l1,dy,Ah,wl,Lx)\n",
    "    \n",
    "    axes.clear()\n",
    "    #print('kuku')\n",
    "    u1, u2, Fn,xn = retvec(Ah,wl,Lx,l1,dy,m1)\n",
    "    n1, n2 = retnorm(xn,Fn,A,wl)\n",
    "    r1, r2, nx1, nx2,gmm,ldmk=gmlm(u1,u2,Ah,wl,xn)\n",
    "    if len(r1)>0:\n",
    "        lj=0\n",
    "        for pt in r1:\n",
    "            axes.plot(r1[lj],r2[lj],'*',c='blue')\n",
    "            axes.plot([r1[lj], r1[lj]+gmm[lj]*nx1[lj]],[r2[lj],r2[lj]+gmm[lj]*nx2[lj]],c='red')\n",
    "            lj+=1\n",
    "        \n",
    "    yz=np.tan(m1)*xn+dy\n",
    "    axes.set_aspect('equal')\n",
    "    #axes.axis('square')\n",
    "    axes.plot([u1[0],u2[0]],[u1[1],u2[1]],\"*-\")\n",
    "    axes.plot(xn,Fn)\n",
    "    axes.plot(xn,yz,'--')\n",
    "    nu=0\n",
    "    for jk in xn:\n",
    "        axes.plot([xn[nu],n1[nu]+xn[nu]],[Fn[nu],Fn[nu]+n2[nu]],'-',c='black',alpha=0.4)\n",
    "        nu+=1\n",
    "        #if nu>2:\n",
    "        #    break\n",
    "    display(axes.figure)#,ui,vi)\n",
    "    \n",
    "    \n",
    "    #with out:\n",
    "    #    print(m1,l1,dy,Ah,wl,Lx)\n",
    "        #axes.plot([u1[0],u2[0]],[u1[1],u2[1]],\"*-\")\n",
    "        #axes.plot(xn,Fn)\n",
    "        #print(u1,u2)\n",
    "\n",
    "#u1, u2, Fn,xn = retvec(A,ld,L,l,d,m)\n",
    "#retnorm(xn,Fn)\n",
    "#axes.plot([u1[0],u2[0]],[u1[1],u2[1]],\"*-\")\n",
    "#axes.plot(xn,Fn)\n",
    "out = widgets.interactive_output(f,{'m1':m1,'l1':l1,'dy':dy,'Ah':Ah,'wl':wl,'Lx':Lx})"
   ]
  },
  {
   "cell_type": "code",
   "execution_count": 4,
   "id": "3c03694f",
   "metadata": {},
   "outputs": [
    {
     "data": {
      "application/vnd.jupyter.widget-view+json": {
       "model_id": "e1565f65de72476da2546b42aebb7cf5",
       "version_major": 2,
       "version_minor": 0
      },
      "text/plain": [
       "Output(outputs=({'output_type': 'display_data', 'data': {'text/plain': '<Figure size 720x720 with 1 Axes>', 'i…"
      ]
     },
     "metadata": {},
     "output_type": "display_data"
    },
    {
     "data": {
      "application/vnd.jupyter.widget-view+json": {
       "model_id": "3eb368c884b64c6aaa0118aaa089b753",
       "version_major": 2,
       "version_minor": 0
      },
      "text/plain": [
       "HBox(children=(FloatSlider(value=0.7853981633974483, continuous_update=False, description='theta', max=6.28318…"
      ]
     },
     "metadata": {},
     "output_type": "display_data"
    },
    {
     "data": {
      "application/vnd.jupyter.widget-view+json": {
       "model_id": "352ce4b7175d4e4081d7ca08b5028c1f",
       "version_major": 2,
       "version_minor": 0
      },
      "text/plain": [
       "HBox(children=(FloatSlider(value=0.5, continuous_update=False, description='Amp', max=1.0, step=0.01), FloatSl…"
      ]
     },
     "metadata": {},
     "output_type": "display_data"
    }
   ],
   "source": [
    "display(out, wi,ui)"
   ]
  },
  {
   "cell_type": "markdown",
   "id": "7d4c8f4a",
   "metadata": {},
   "source": [
    "## Distance.\n",
    "\n",
    "### The segment is given by $\\mathbf{p}=\\mathbf{a}+  \\lambda  (\\mathbf{b-a})$ for $\\lambda \\in [0,1]$.\n",
    "### The periodic surface by $\\mathbf{u}=(x,h(x))$, $h=Asin(kx)$\n",
    "### The unit normals  of $\\mathbf{u}$ are $\\hat{\\mathbf{N}}=\\left(\\sqrt{1+(h')^2}\\right)^{-1}(-h',1)$\n",
    "### The segments we look for are those constrained by $\\mathbf{u}+\\gamma\\hat{\\mathbf{N}}=\\mathbf{p}$\n",
    "### In components:\n",
    "### $(x-a_x)-\\gamma h'|\\tau|^{-1}=a_x+\\lambda(b_x-a_x)$ \n",
    "### And $h+\\gamma |\\tau|^{-1} = a_y+ \\lambda(b_y-a_y)$\n",
    "### Which lead to: $\\lambda=U_o-\\gamma U_1$  and: $\\gamma = \\left[ \\frac{V_o+U_oV_1}{1+U_1V_1} \\right]$\n",
    "### With:\n",
    "1. $U_o=\\frac{x-a_x}{b_x-a_x}$, \n",
    "2. $U_1=\\frac{h'}{|\\tau| (b_x-a_x)}$, \n",
    "3. $V_o=|\\tau|(a_y-h)$, \n",
    "4. $V_1=\\tau(b_y-a_y)$.\n",
    "### Where $|\\tau|=\\sqrt{1+h'^{2}}$\n",
    "### Thus: $\\gamma=\\sqrt{1+h'^2}\\left[ \\frac{a_y-h+(x-a_x)m_s)}{1+h'm_s} \\right]$, where  $m_s$ is the slope of the segment $m_s=\\frac{b_y-a_y}{b_x-a_x}$"
   ]
  },
  {
   "cell_type": "code",
   "execution_count": null,
   "id": "0d8c7f7d",
   "metadata": {},
   "outputs": [],
   "source": []
  },
  {
   "cell_type": "code",
   "execution_count": null,
   "id": "ead35ad9",
   "metadata": {},
   "outputs": [],
   "source": []
  }
 ],
 "metadata": {
  "kernelspec": {
   "display_name": "Python 3",
   "language": "python",
   "name": "python3"
  },
  "language_info": {
   "codemirror_mode": {
    "name": "ipython",
    "version": 3
   },
   "file_extension": ".py",
   "mimetype": "text/x-python",
   "name": "python",
   "nbconvert_exporter": "python",
   "pygments_lexer": "ipython3",
   "version": "3.7.8"
  }
 },
 "nbformat": 4,
 "nbformat_minor": 5
}
